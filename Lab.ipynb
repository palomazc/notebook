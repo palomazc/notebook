{
 "cells": [
  {
   "cell_type": "code",
   "execution_count": 1,
   "metadata": {},
   "outputs": [],
   "source": [
    "import numpy as np\n",
    "import pandas as pd\n",
    "%matplotlib inline\n",
    "import matplotlib\n",
    "import requests"
   ]
  },
  {
   "cell_type": "code",
   "execution_count": null,
   "metadata": {},
   "outputs": [],
   "source": [
    "stocks = [\"goog\", \"aapl\", \"fb\", \"amzn\"]\n",
    "public_api_key = \"COPY_PASTE_HERE_YOUR_PUBLIC_API_KEY\"\n",
    "\n",
    "stocks_df = None\n",
    "for stock in stocks:\n",
    "    data = requests.get(f\"https://cloud.iexapis.com/stable/stock/{stock}/chart/3m?token={public_api_key}\").json()\n",
    "    stock_df = pd.DataFrame.from_dict(data)\n",
    "    stock_df['date'] = pd.to_datetime(stock_df['date'], format=\"%Y-%m-%d\")\n",
    "    stock_df = stock_df.set_index('date')\n",
    "    stock_df = stock_df[[\"close\"]]\n",
    "    stock_df.columns = [ stock ]\n",
    "    stock_df = stock_df / stock_df[stock][0] # Normalization at t=0\n",
    "    if stocks_df is None:\n",
    "        stocks_df = stock_df\n",
    "    else:\n",
    "        stocks_df = stocks_df.join(stock_df)\n",
    "\n",
    "stocks_df.plot(figsize=(12,8))"
   ]
  }
 ],
 "metadata": {
  "kernelspec": {
   "display_name": "Python 3",
   "language": "python",
   "name": "python3"
  },
  "language_info": {
   "codemirror_mode": {
    "name": "ipython",
    "version": 3
   },
   "file_extension": ".py",
   "mimetype": "text/x-python",
   "name": "python",
   "nbconvert_exporter": "python",
   "pygments_lexer": "ipython3",
   "version": "3.7.0"
  }
 },
 "nbformat": 4,
 "nbformat_minor": 2
}
